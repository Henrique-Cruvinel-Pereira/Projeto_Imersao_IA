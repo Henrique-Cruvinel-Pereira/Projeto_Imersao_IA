{
  "nbformat": 4,
  "nbformat_minor": 0,
  "metadata": {
    "colab": {
      "provenance": [],
      "authorship_tag": "ABX9TyOW3G07MkHO9iLKeewgzu+N",
      "include_colab_link": true
    },
    "kernelspec": {
      "name": "python3",
      "display_name": "Python 3"
    },
    "language_info": {
      "name": "python"
    }
  },
  "cells": [
    {
      "cell_type": "markdown",
      "metadata": {
        "id": "view-in-github",
        "colab_type": "text"
      },
      "source": [
        "<a href=\"https://colab.research.google.com/github/Henrique-Cruvinel-Pereira/Projeto_Imersao_IA/blob/main/Qual_a_equipe_de_F1.ipynb\" target=\"_parent\"><img src=\"https://colab.research.google.com/assets/colab-badge.svg\" alt=\"Open In Colab\"/></a>"
      ]
    },
    {
      "cell_type": "code",
      "execution_count": 3,
      "metadata": {
        "colab": {
          "base_uri": "https://localhost:8080/",
          "height": 86
        },
        "id": "oc9YwlA5g2na",
        "outputId": "9d986a42-cbf0-4476-f0b7-2750f9230e2a"
      },
      "outputs": [
        {
          "output_type": "stream",
          "name": "stdout",
          "text": [
            "Mclaren\n",
            "Lando Norris e Oscar Piastri\n",
            "2023 \n",
            "\n"
          ]
        }
      ],
      "source": [
        "!pip install google-generativeai\n",
        "\n",
        "from pathlib import Path\n",
        "import hashlib\n",
        "import google.generativeai as genai\n",
        "\n",
        "genai.configure(api_key=\"INSERT API KEY\")\n",
        "\n",
        "# Set up the model\n",
        "generation_config = {\n",
        "  \"temperature\": 1,\n",
        "}\n",
        "\n",
        "safety_settings = [\n",
        "  {\n",
        "    \"category\": \"HARM_CATEGORY_HARASSMENT\",\n",
        "    \"threshold\": \"BLOCK_MEDIUM_AND_ABOVE\"\n",
        "  },\n",
        "  {\n",
        "    \"category\": \"HARM_CATEGORY_HATE_SPEECH\",\n",
        "    \"threshold\": \"BLOCK_MEDIUM_AND_ABOVE\"\n",
        "  },\n",
        "  {\n",
        "    \"category\": \"HARM_CATEGORY_SEXUALLY_EXPLICIT\",\n",
        "    \"threshold\": \"BLOCK_MEDIUM_AND_ABOVE\"\n",
        "  },\n",
        "  {\n",
        "    \"category\": \"HARM_CATEGORY_DANGEROUS_CONTENT\",\n",
        "    \"threshold\": \"BLOCK_MEDIUM_AND_ABOVE\"\n",
        "  },\n",
        "]\n",
        "\n",
        "model = genai.GenerativeModel(model_name=\"gemini-1.5-pro-latest\",\n",
        "                              generation_config=generation_config,\n",
        "                              safety_settings=safety_settings)\n",
        "\n",
        "uploaded_files = []\n",
        "def upload_if_needed(pathname: str) -> list[str]:\n",
        "  path = Path(pathname)\n",
        "  hash_id = hashlib.sha256(path.read_bytes()).hexdigest()\n",
        "  try:\n",
        "    existing_file = genai.get_file(name=hash_id)\n",
        "    return [existing_file]\n",
        "  except:\n",
        "    pass\n",
        "  uploaded_files.append(genai.upload_file(path=path, display_name=hash_id))\n",
        "  return [uploaded_files[-1]]\n",
        "\n",
        "prompt_parts = [\n",
        "  \"Responda apenas o nome da equipe, dos pilotos e o ano do carro\",\n",
        "  \"Carro: \",\n",
        "  *upload_if_needed(\"/content/red_bull_2024.jpg\"),\n",
        "  \"Equipe: Red Bull\",\n",
        "  \"Pilotos: Max Verstappen e Sergio Perez\",\n",
        "  \"Ano: 2024\",\n",
        "  \"Carro: \",\n",
        "  *upload_if_needed(\"/content/ferrari_2024.jpg\"),\n",
        "  \"Equipe: Ferrari\",\n",
        "  \"Pilotos: Charles Leclerc e Carlos Sainz\",\n",
        "  \"Ano: 2024\",\n",
        "  \"Carro: \",\n",
        "  *upload_if_needed(\"/content/mercedes_2024.jpg\"),\n",
        "  \"Equipe: Mercedes Benz\",\n",
        "  \"Pilotos: Lewis Hamilton e George Russsel\",\n",
        "  \"Ano: 2024\",\n",
        "  \"Carro: \",\n",
        "  *upload_if_needed(\"/content/mclaren_2024.jpg\"),\n",
        "  \"Equipe: Mclaren\",\n",
        "  \"Pilotos: Lando Norris e Oscar Piastri\",\n",
        "  \"Ano: 2024\",\n",
        "  \"Carro: \",\n",
        "  *upload_if_needed(\"/content/teste1.jpg\"),\n",
        "  \"Equipe: \",\n",
        "  \"Pilotos: \",\n",
        "  \"Ano: \",\n",
        "]\n",
        "\n",
        "response = model.generate_content(prompt_parts)\n",
        "print(response.text)"
      ]
    }
  ]
}